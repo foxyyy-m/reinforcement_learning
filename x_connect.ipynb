{
  "nbformat": 4,
  "nbformat_minor": 0,
  "metadata": {
    "colab": {
      "provenance": [],
      "authorship_tag": "ABX9TyPlDgH8kosmf7atHgKAoGEb"
    },
    "kernelspec": {
      "name": "python3",
      "display_name": "Python 3"
    },
    "language_info": {
      "name": "python"
    }
  },
  "cells": [
    {
      "cell_type": "code",
      "execution_count": null,
      "metadata": {
        "id": "3uGzkw7ef8k_"
      },
      "outputs": [],
      "source": [
        "from learntools.core import binder\n",
        "binder.bind(globals())\n",
        "from learntools.game_ai.ex1 import *"
      ]
    },
    {
      "cell_type": "code",
      "source": [
        "import numpy as np\n",
        "\n",
        "# Gets board at next step if agent drops piece in selected column\n",
        "def drop_piece(grid, col, piece, config):\n",
        "    next_grid = grid.copy()\n",
        "    for row in range(config.rows-1, -1, -1):\n",
        "        if next_grid[row][col] == 0:\n",
        "            break\n",
        "    next_grid[row][col] = piece\n",
        "    return next_grid\n",
        "\n",
        "# Returns True if dropping piece in column results in game win\n",
        "def check_winning_move(obs, config, col, piece):\n",
        "    # Convert the board to a 2D grid\n",
        "    grid = np.asarray(obs.board).reshape(config.rows, config.columns)\n",
        "    next_grid = drop_piece(grid, col, piece, config)\n",
        "    # horizontal\n",
        "    for row in range(config.rows):\n",
        "        for col in range(config.columns-(config.inarow-1)):\n",
        "            window = list(next_grid[row,col:col+config.inarow])\n",
        "            if window.count(piece) == config.inarow:\n",
        "                return True\n",
        "    # vertical\n",
        "    for row in range(config.rows-(config.inarow-1)):\n",
        "        for col in range(config.columns):\n",
        "            window = list(next_grid[row:row+config.inarow,col])\n",
        "            if window.count(piece) == config.inarow:\n",
        "                return True\n",
        "    # positive diagonal\n",
        "    for row in range(config.rows-(config.inarow-1)):\n",
        "        for col in range(config.columns-(config.inarow-1)):\n",
        "            window = list(next_grid[range(row, row+config.inarow), range(col, col+config.inarow)])\n",
        "            if window.count(piece) == config.inarow:\n",
        "                return True\n",
        "    # negative diagonal\n",
        "    for row in range(config.inarow-1, config.rows):\n",
        "        for col in range(config.columns-(config.inarow-1)):\n",
        "            window = list(next_grid[range(row, row-config.inarow, -1), range(col, col+config.inarow)])\n",
        "            if window.count(piece) == config.inarow:\n",
        "                return True\n",
        "    return False"
      ],
      "metadata": {
        "id": "BuK1lxudf97s"
      },
      "execution_count": null,
      "outputs": []
    },
    {
      "cell_type": "code",
      "source": [
        "import random\n",
        "\n",
        "def agent_q1(obs, config):\n",
        "    valid_moves = [col for col in range(config.columns) if obs.board[col] == 0]\n",
        "    for col in valid_moves:\n",
        "        if check_winning_move(obs, config, col, obs.mark):\n",
        "            return col\n",
        "    return random.choice(valid_moves)"
      ],
      "metadata": {
        "id": "PRAfQlR3f9-W"
      },
      "execution_count": null,
      "outputs": []
    },
    {
      "cell_type": "code",
      "source": [
        "def agent_q2(obs, config):\n",
        "    valid_moves = [col for col in range(config.columns) if obs.board[col] == 0]\n",
        "    for col in valid_moves:\n",
        "        if check_winning_move(obs, config, col, obs.mark):\n",
        "            return col\n",
        "    for col in valid_moves:\n",
        "        if check_winning_move(obs, config, col, obs.mark%2+1):\n",
        "            return col\n",
        "    return random.choice(valid_moves)"
      ],
      "metadata": {
        "id": "Ry7hKUOBf-BI"
      },
      "execution_count": null,
      "outputs": []
    },
    {
      "cell_type": "code",
      "source": [
        "def my_agent(obs, config):\n",
        "    # Your code here: Amend the agent!\n",
        "    import random\n",
        "    valid_moves = [col for col in range(config.columns) if obs.board[col] == 0]\n",
        "    return random.choice(valid_moves)"
      ],
      "metadata": {
        "id": "R4QbNwQnf-D7"
      },
      "execution_count": null,
      "outputs": []
    },
    {
      "cell_type": "code",
      "source": [
        "from kaggle_environments import evaluate, make\n",
        "\n",
        "env = make(\"connectx\", debug=True)\n",
        "env.run([my_agent, \"random\"])\n",
        "env.render(mode=\"ipython\")"
      ],
      "metadata": {
        "id": "TeLLU19ef-GJ"
      },
      "execution_count": null,
      "outputs": []
    },
    {
      "cell_type": "code",
      "source": [
        "import inspect\n",
        "import os\n",
        "\n",
        "def write_agent_to_file(function, file):\n",
        "    with open(file, \"a\" if os.path.exists(file) else \"w\") as f:\n",
        "        f.write(inspect.getsource(function))\n",
        "        print(function, \"written to\", file)\n",
        "\n",
        "write_agent_to_file(my_agent, \"submission.py\")\n",
        "\n",
        "# Check that submission file was created\n",
        "q_5.check()"
      ],
      "metadata": {
        "id": "tsHvpWS9f-IW"
      },
      "execution_count": null,
      "outputs": []
    },
    {
      "cell_type": "code",
      "source": [],
      "metadata": {
        "id": "Y3huMn0Mf-L1"
      },
      "execution_count": null,
      "outputs": []
    }
  ]
}